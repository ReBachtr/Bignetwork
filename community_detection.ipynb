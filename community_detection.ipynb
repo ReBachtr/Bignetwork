{
 "cells": [
  {
   "cell_type": "code",
   "execution_count": 17,
   "metadata": {},
   "outputs": [],
   "source": [
    "import numpy as np\n",
    "import networkx as nx\n",
    "import matplotlib.pyplot as plt\n",
    "from igraph import *"
   ]
  },
  {
   "cell_type": "code",
   "execution_count": 18,
   "metadata": {},
   "outputs": [],
   "source": [
    "fb = nx.read_gml('./source_graph/facebook.gml')\n",
    "ins = nx.read_gml('./source_graph/instagram.gml')\n",
    "tw = nx.read_gml('./source_graph/twitter.gml')"
   ]
  },
  {
   "cell_type": "code",
   "execution_count": 25,
   "metadata": {},
   "outputs": [
    {
     "name": "stdout",
     "output_type": "stream",
     "text": [
      "Name: \n",
      "Type: DiGraph\n",
      "Number of nodes: 1000\n",
      "Number of edges: 100306\n",
      "Average in degree: 100.3060\n",
      "Average out degree: 100.3060\n",
      "Name: \n",
      "Type: DiGraph\n",
      "Number of nodes: 1000\n",
      "Number of edges: 9866\n",
      "Average in degree:   9.8660\n",
      "Average out degree:   9.8660\n",
      "Name: \n",
      "Type: DiGraph\n",
      "Number of nodes: 1000\n",
      "Number of edges: 500630\n",
      "Average in degree: 500.6300\n",
      "Average out degree: 500.6300\n"
     ]
    }
   ],
   "source": [
    "print(nx.info(fb))\n",
    "print(nx.info(ins))\n",
    "print(nx.info(tw))"
   ]
  },
  {
   "cell_type": "code",
   "execution_count": 32,
   "metadata": {},
   "outputs": [],
   "source": [
    "ig_fb = read('./source_graph/facebook.gml')\n",
    "ig_ins = read('./source_graph/instagram.gml')\n",
    "ig_tw = read('./source_graph/twitter.gml')"
   ]
  },
  {
   "cell_type": "code",
   "execution_count": 33,
   "metadata": {},
   "outputs": [],
   "source": [
    "import copy\n",
    "def get_communities(g, greedy = 1):\n",
    "    ng = copy.deepcopy(g)\n",
    "    if greedy == 1:\n",
    "        com_g = ng.community_fastgreedy().as_clustering()\n",
    "    else:\n",
    "        com_g = ng.community_leading_eigenvector(clusters = 5)\n",
    "    for i in range(len(com_g)):\n",
    "        ng.vs.select(id_in = com_g[i])['communities'] = i\n",
    "    return ng"
   ]
  },
  {
   "cell_type": "code",
   "execution_count": 38,
   "metadata": {},
   "outputs": [],
   "source": [
    "ig_fb.to_undirected()\n",
    "ig_tw.to_undirected()"
   ]
  },
  {
   "cell_type": "code",
   "execution_count": 39,
   "metadata": {},
   "outputs": [],
   "source": [
    "g1g = get_communities(ig_fb, greedy = 1)\n",
    "g1g.write(\"./clustered_graph/fb_ig_greedy.gml\")\n",
    "g2g = get_communities(ig_tw, greedy = 1)\n",
    "g2g.write(\"./clustered_graph/tw_ig_greedy.gml\")\n",
    "g1c = get_communities(ig_fb, greedy = 0)\n",
    "g1c.write(\"./clustered_graph/fb_ig_5cluster.gml\")\n",
    "g2c = get_communities(ig_tw, greedy = 0)\n",
    "g2c.write(\"./clustered_graph/tw_ig_5cluster.gml\")"
   ]
  },
  {
   "cell_type": "code",
   "execution_count": null,
   "metadata": {},
   "outputs": [],
   "source": []
  }
 ],
 "metadata": {
  "file_extension": ".py",
  "kernelspec": {
   "display_name": "Python 3",
   "language": "python",
   "name": "python3"
  },
  "language_info": {
   "codemirror_mode": {
    "name": "ipython",
    "version": 3
   },
   "file_extension": ".py",
   "mimetype": "text/x-python",
   "name": "python",
   "nbconvert_exporter": "python",
   "pygments_lexer": "ipython3",
   "version": "3.7.4"
  },
  "mimetype": "text/x-python",
  "name": "python",
  "npconvert_exporter": "python",
  "pygments_lexer": "ipython3",
  "version": 3
 },
 "nbformat": 4,
 "nbformat_minor": 2
}
