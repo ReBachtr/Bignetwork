{
 "cells": [
  {
   "cell_type": "code",
   "execution_count": 1,
   "metadata": {},
   "outputs": [],
   "source": [
    "import pandas as pd\n",
    "import networkx as nx\n",
    "import numpy as np\n",
    "import matplotlib.pyplot as plt"
   ]
  },
  {
   "cell_type": "code",
   "execution_count": 2,
   "metadata": {},
   "outputs": [
    {
     "name": "stdout",
     "output_type": "stream",
     "text": [
      "CPU times: user 23.7 s, sys: 97.7 ms, total: 23.7 s\n",
      "Wall time: 23.8 s\n"
     ]
    }
   ],
   "source": [
    "%%time\n",
    "facebook_data = pd.read_excel('./huawei-social-network-data/Facebook_Data.xlsx')\n",
    "ins_data = pd.read_excel('./huawei-social-network-data/Instagram_Data.xlsx')\n",
    "twitter_data = pd.read_excel('./huawei-social-network-data/Facebook_Data.xlsx')"
   ]
  },
  {
   "cell_type": "markdown",
   "metadata": {},
   "source": [
    "## 1. Facebook"
   ]
  },
  {
   "cell_type": "code",
   "execution_count": 5,
   "metadata": {},
   "outputs": [
    {
     "name": "stdout",
     "output_type": "stream",
     "text": [
      "CPU times: user 11.9 s, sys: 42 ms, total: 12 s\n",
      "Wall time: 12.2 s\n"
     ]
    }
   ],
   "source": [
    "%%time\n",
    "# add nodes first\n",
    "D1 = nx.DiGraph()\n",
    "for name in name_list:\n",
    "    D1.add_node(name)\n",
    "    \n",
    "#add edges\n",
    "for i in range(len(facebook_data)):\n",
    "    row = facebook_data.iloc[i][1:]\n",
    "    a0 = facebook_data.iloc[i][0]\n",
    "    if a0[-1:] == '\\xa0':\n",
    "        a0 = a0[:-2]\n",
    "        a0.strip()\n",
    "    for j in range(len(row)):\n",
    "        if row[j] == 1:\n",
    "            a1 = name_list[j]\n",
    "            D1.add_edge(a0,a1)"
   ]
  },
  {
   "cell_type": "code",
   "execution_count": 19,
   "metadata": {},
   "outputs": [],
   "source": [
    "# number of nodes\n",
    "node = D1.order()\n",
    "# number of edges\n",
    "edge = D1.size()"
   ]
  },
  {
   "cell_type": "code",
   "execution_count": 20,
   "metadata": {},
   "outputs": [
    {
     "name": "stdout",
     "output_type": "stream",
     "text": [
      "Average Shortest path length= 1.8996316316316317\n",
      "CPU times: user 29.3 s, sys: 1.95 ms, total: 29.3 s\n",
      "Wall time: 30 s\n"
     ]
    }
   ],
   "source": [
    "%%time\n",
    "#average shortest path length of Largest connected component\n",
    "aspl=nx.average_shortest_path_length(D1)\n",
    "print(\"Average Shortest path length=\",aspl)"
   ]
  },
  {
   "cell_type": "code",
   "execution_count": 21,
   "metadata": {},
   "outputs": [
    {
     "name": "stdout",
     "output_type": "stream",
     "text": [
      "Network diameter= 3\n",
      "CPU times: user 28.7 s, sys: 9.92 ms, total: 28.7 s\n",
      "Wall time: 29.3 s\n"
     ]
    }
   ],
   "source": [
    "%%time\n",
    "diameter=nx.diameter(D1)\n",
    "print(\"Network diameter=\",diameter)"
   ]
  },
  {
   "cell_type": "code",
   "execution_count": 24,
   "metadata": {},
   "outputs": [
    {
     "name": "stdout",
     "output_type": "stream",
     "text": [
      "Average Clusterng Coefficient= 0.100329588445239\n",
      "CPU times: user 4.77 s, sys: 3 ms, total: 4.78 s\n",
      "Wall time: 4.8 s\n"
     ]
    }
   ],
   "source": [
    "%%time\n",
    "#clustering coefficient\n",
    "\n",
    "cc=nx.clustering(D1)\n",
    "cc_values = sorted(set(cc.values()))\n",
    "print(\"Average Clusterng Coefficient=\", np.mean(list(cc.values())))"
   ]
  },
  {
   "cell_type": "code",
   "execution_count": 18,
   "metadata": {},
   "outputs": [
    {
     "name": "stdout",
     "output_type": "stream",
     "text": [
      "Average degree= 200.612\n"
     ]
    }
   ],
   "source": [
    "deg = D1.degree() \n",
    "deg_dict = dict()\n",
    "for k in D1.nodes():\n",
    "    D1.node[k]['degree'] = deg[k]\n",
    "    deg_dict[k] = deg[k]\n",
    "    \n",
    "deg_values = sorted(set(deg_dict.values()))\n",
    "print(\"Average degree=\", np.mean(list(deg_dict.values())))"
   ]
  },
  {
   "cell_type": "code",
   "execution_count": 17,
   "metadata": {},
   "outputs": [
    {
     "name": "stdout",
     "output_type": "stream",
     "text": [
      "Average degree centrality= 0.2008128128128128\n"
     ]
    }
   ],
   "source": [
    "#degree centrality distribution and parsing into Gephi\n",
    "dc=nx.degree_centrality(D1)\n",
    "for k in D1.nodes():\n",
    "    D1.node[k]['degcen'] = dc[k]\n",
    "dc_values = sorted(set(dc.values()))\n",
    "print(\"Average degree centrality=\",np.mean(list(dc.values())))"
   ]
  },
  {
   "cell_type": "code",
   "execution_count": 16,
   "metadata": {},
   "outputs": [
    {
     "name": "stdout",
     "output_type": "stream",
     "text": [
      "Average betweenness centrality= 0.0009014345006328968\n",
      "CPU times: user 23.9 s, sys: 22.9 ms, total: 23.9 s\n",
      "Wall time: 24.3 s\n"
     ]
    }
   ],
   "source": [
    "%%time\n",
    "#Betweenness centrality distribution and parsing into Gephi\n",
    "bcen=nx.betweenness_centrality(D1)\n",
    "\n",
    "for k in D1.nodes():\n",
    "    D1.node[k]['betcen'] = bcen[k]\n",
    "bcen_values = sorted(set(bcen.values()))\n",
    "print(\"Average betweenness centrality=\", np.mean(list(bcen.values())))"
   ]
  },
  {
   "cell_type": "code",
   "execution_count": 15,
   "metadata": {},
   "outputs": [
    {
     "name": "stdout",
     "output_type": "stream",
     "text": [
      "Average Eigen vector centrality= 0.03148451847914608\n",
      "CPU times: user 189 ms, sys: 5.98 ms, total: 195 ms\n",
      "Wall time: 201 ms\n"
     ]
    }
   ],
   "source": [
    "%%time\n",
    "#Eigen Vector centrality distribution\n",
    "ecen=nx.eigenvector_centrality(D1)\n",
    "for k in D1.nodes():\n",
    "    D1.node[k]['eigcen'] = ecen[k]\n",
    "\n",
    "ecen_values = sorted(set(ecen.values()))\n",
    "print(\"Average Eigen vector centrality=\", np.mean(list(ecen.values())))"
   ]
  },
  {
   "cell_type": "code",
   "execution_count": 14,
   "metadata": {},
   "outputs": [],
   "source": [
    "#create .gml object with attributes for 'Gephi' visualization\n",
    "nx.write_gml(D1, \"./facebook.gml\")"
   ]
  },
  {
   "cell_type": "markdown",
   "metadata": {},
   "source": [
    "## 2. Twitter"
   ]
  },
  {
   "cell_type": "code",
   "execution_count": 25,
   "metadata": {},
   "outputs": [],
   "source": [
    "name_list = twitter_data['Unnamed: 0'].values\n",
    "names = []\n",
    "for name in name_list:\n",
    "    if name[-1:] == '\\xa0':\n",
    "        name = name[:-2]\n",
    "        name.strip()\n",
    "    names.append(name)\n",
    "name_list = np.array(names)"
   ]
  },
  {
   "cell_type": "code",
   "execution_count": 26,
   "metadata": {},
   "outputs": [
    {
     "name": "stdout",
     "output_type": "stream",
     "text": [
      "CPU times: user 12.4 s, sys: 113 ms, total: 12.5 s\n",
      "Wall time: 12.8 s\n"
     ]
    }
   ],
   "source": [
    "%%time\n",
    "# add nodes first\n",
    "D2 = nx.DiGraph()\n",
    "for name in name_list:\n",
    "    D2.add_node(name)\n",
    "    \n",
    "#add edges\n",
    "for i in range(len(twitter_data)):\n",
    "    row = twitter_data.iloc[i][1:]\n",
    "    a0 = twitter_data.iloc[i][0]\n",
    "    if a0[-1:] == '\\xa0':\n",
    "        a0 = a0[:-2]\n",
    "        a0.strip()\n",
    "    for j in range(len(row)):\n",
    "        if row[j] == 1:\n",
    "            a1 = name_list[j]\n",
    "            D2.add_edge(a0,a1)"
   ]
  },
  {
   "cell_type": "code",
   "execution_count": 27,
   "metadata": {},
   "outputs": [],
   "source": [
    "# number of nodes\n",
    "node = D2.order()\n",
    "# number of edges\n",
    "edge = D2.size()"
   ]
  },
  {
   "cell_type": "code",
   "execution_count": 28,
   "metadata": {},
   "outputs": [
    {
     "name": "stdout",
     "output_type": "stream",
     "text": [
      "Average Shortest path length= 1.498868868868869\n",
      "CPU times: user 2min 28s, sys: 55 ms, total: 2min 28s\n",
      "Wall time: 2min 30s\n"
     ]
    }
   ],
   "source": [
    "%%time\n",
    "#average shortest path length of Largest connected component\n",
    "aspl=nx.average_shortest_path_length(D2)\n",
    "print(\"Average Shortest path length=\",aspl)"
   ]
  },
  {
   "cell_type": "code",
   "execution_count": 29,
   "metadata": {},
   "outputs": [
    {
     "name": "stdout",
     "output_type": "stream",
     "text": [
      "Network diameter= 2\n",
      "CPU times: user 2min 25s, sys: 56 ms, total: 2min 25s\n",
      "Wall time: 2min 27s\n"
     ]
    }
   ],
   "source": [
    "%%time\n",
    "diameter=nx.diameter(D2)\n",
    "print(\"Network diameter=\",diameter)"
   ]
  },
  {
   "cell_type": "code",
   "execution_count": 30,
   "metadata": {},
   "outputs": [
    {
     "name": "stdout",
     "output_type": "stream",
     "text": [
      "Average Clusterng Coefficient= 0.5012099571405301\n",
      "CPU times: user 3min 22s, sys: 71 ms, total: 3min 23s\n",
      "Wall time: 3min 25s\n"
     ]
    }
   ],
   "source": [
    "%%time\n",
    "#clustering coefficient\n",
    "\n",
    "cc=nx.clustering(D2)\n",
    "cc_values = sorted(set(cc.values()))\n",
    "print(\"Average Clusterng Coefficient=\", np.mean(list(cc.values())))"
   ]
  },
  {
   "cell_type": "code",
   "execution_count": 31,
   "metadata": {},
   "outputs": [
    {
     "name": "stdout",
     "output_type": "stream",
     "text": [
      "Average degree= 1001.26\n"
     ]
    }
   ],
   "source": [
    "deg = D2.degree() \n",
    "deg_dict = dict()\n",
    "for k in D2.nodes():\n",
    "    D2.node[k]['degree'] = deg[k]\n",
    "    deg_dict[k] = deg[k]\n",
    "    \n",
    "deg_values = sorted(set(deg_dict.values()))\n",
    "print(\"Average degree=\", np.mean(list(deg_dict.values())))"
   ]
  },
  {
   "cell_type": "code",
   "execution_count": 32,
   "metadata": {},
   "outputs": [
    {
     "name": "stdout",
     "output_type": "stream",
     "text": [
      "Average degree centrality= 1.0022622622622623\n"
     ]
    }
   ],
   "source": [
    "#degree centrality distribution and parsing into Gephi\n",
    "dc=nx.degree_centrality(D2)\n",
    "for k in D2.nodes():\n",
    "    D2.node[k]['degcen'] = dc[k]\n",
    "dc_values = sorted(set(dc.values()))\n",
    "print(\"Average degree centrality=\",np.mean(list(dc.values())))"
   ]
  },
  {
   "cell_type": "code",
   "execution_count": 33,
   "metadata": {},
   "outputs": [
    {
     "name": "stdout",
     "output_type": "stream",
     "text": [
      "Average betweenness centrality= 0.0004998686060810304\n",
      "CPU times: user 2min 39s, sys: 341 ms, total: 2min 39s\n",
      "Wall time: 2min 42s\n"
     ]
    }
   ],
   "source": [
    "%%time\n",
    "#Betweenness centrality distribution and parsing into Gephi\n",
    "bcen=nx.betweenness_centrality(D2)\n",
    "\n",
    "for k in D2.nodes():\n",
    "    D2.node[k]['betcen'] = bcen[k]\n",
    "bcen_values = sorted(set(bcen.values()))\n",
    "print(\"Average betweenness centrality=\", np.mean(list(bcen.values())))"
   ]
  },
  {
   "cell_type": "code",
   "execution_count": 34,
   "metadata": {},
   "outputs": [
    {
     "name": "stdout",
     "output_type": "stream",
     "text": [
      "Average Eigen vector centrality= 0.03160581284590891\n",
      "CPU times: user 450 ms, sys: 4.01 ms, total: 454 ms\n",
      "Wall time: 473 ms\n"
     ]
    }
   ],
   "source": [
    "%%time\n",
    "#Eigen Vector centrality distribution\n",
    "ecen=nx.eigenvector_centrality(D2)\n",
    "for k in D2.nodes():\n",
    "    D2.node[k]['eigcen'] = ecen[k]\n",
    "\n",
    "ecen_values = sorted(set(ecen.values()))\n",
    "print(\"Average Eigen vector centrality=\", np.mean(list(ecen.values())))"
   ]
  },
  {
   "cell_type": "code",
   "execution_count": 35,
   "metadata": {},
   "outputs": [],
   "source": [
    "#create .gml object with attributes for 'Gephi' visualization\n",
    "nx.write_gml(D2, \"./twitter.gml\")"
   ]
  },
  {
   "cell_type": "markdown",
   "metadata": {},
   "source": [
    "## 3. Instagram"
   ]
  },
  {
   "cell_type": "code",
   "execution_count": 36,
   "metadata": {},
   "outputs": [],
   "source": [
    "name_list = ins_data['Unnamed: 0'].values\n",
    "names = []\n",
    "for name in name_list:\n",
    "    if name[-1:] == '\\xa0':\n",
    "        name = name[:-2]\n",
    "        name.strip()\n",
    "    names.append(name)\n",
    "name_list = np.array(names)"
   ]
  },
  {
   "cell_type": "code",
   "execution_count": 37,
   "metadata": {},
   "outputs": [
    {
     "name": "stdout",
     "output_type": "stream",
     "text": [
      "CPU times: user 10.9 s, sys: 11 ms, total: 10.9 s\n",
      "Wall time: 11.3 s\n"
     ]
    }
   ],
   "source": [
    "%%time\n",
    "# add nodes first\n",
    "D3 = nx.DiGraph()\n",
    "for name in name_list:\n",
    "    D3.add_node(name)\n",
    "    \n",
    "#add edges\n",
    "for i in range(len(ins_data)):\n",
    "    row = ins_data.iloc[i][1:]\n",
    "    a0 = ins_data.iloc[i][0]\n",
    "    if a0[-1:] == '\\xa0':\n",
    "        a0 = a0[:-2]\n",
    "        a0.strip()\n",
    "    for j in range(len(row)):\n",
    "        if row[j] == 1:\n",
    "            a1 = name_list[j]\n",
    "            D3.add_edge(a0,a1)"
   ]
  },
  {
   "cell_type": "code",
   "execution_count": 38,
   "metadata": {},
   "outputs": [],
   "source": [
    "# number of nodes\n",
    "node = D3.order()\n",
    "# number of edges\n",
    "edge = D3.size()"
   ]
  },
  {
   "cell_type": "code",
   "execution_count": 39,
   "metadata": {},
   "outputs": [
    {
     "name": "stdout",
     "output_type": "stream",
     "text": [
      "Average Shortest path length= 3.273137137137137\n",
      "CPU times: user 4.67 s, sys: 1 µs, total: 4.67 s\n",
      "Wall time: 4.71 s\n"
     ]
    }
   ],
   "source": [
    "%%time\n",
    "#average shortest path length of Largest connected component\n",
    "aspl=nx.average_shortest_path_length(D3)\n",
    "print(\"Average Shortest path length=\",aspl)"
   ]
  },
  {
   "cell_type": "code",
   "execution_count": 40,
   "metadata": {},
   "outputs": [
    {
     "name": "stdout",
     "output_type": "stream",
     "text": [
      "Network diameter= 5\n",
      "CPU times: user 4.6 s, sys: 5.99 ms, total: 4.6 s\n",
      "Wall time: 4.65 s\n"
     ]
    }
   ],
   "source": [
    "%%time\n",
    "diameter=nx.diameter(D3)\n",
    "print(\"Network diameter=\",diameter)"
   ]
  },
  {
   "cell_type": "code",
   "execution_count": 41,
   "metadata": {},
   "outputs": [
    {
     "name": "stdout",
     "output_type": "stream",
     "text": [
      "Average Clusterng Coefficient= 0.009066096931963806\n",
      "CPU times: user 72.1 ms, sys: 2 ms, total: 74.1 ms\n",
      "Wall time: 71.9 ms\n"
     ]
    }
   ],
   "source": [
    "%%time\n",
    "#clustering coefficient\n",
    "\n",
    "cc=nx.clustering(D3)\n",
    "cc_values = sorted(set(cc.values()))\n",
    "print(\"Average Clusterng Coefficient=\", np.mean(list(cc.values())))"
   ]
  },
  {
   "cell_type": "code",
   "execution_count": 42,
   "metadata": {},
   "outputs": [
    {
     "name": "stdout",
     "output_type": "stream",
     "text": [
      "Average degree= 19.732\n"
     ]
    }
   ],
   "source": [
    "deg = D3.degree() \n",
    "deg_dict = dict()\n",
    "for k in D3.nodes():\n",
    "    D3.node[k]['degree'] = deg[k]\n",
    "    deg_dict[k] = deg[k]\n",
    "    \n",
    "deg_values = sorted(set(deg_dict.values()))\n",
    "print(\"Average degree=\", np.mean(list(deg_dict.values())))"
   ]
  },
  {
   "cell_type": "code",
   "execution_count": 43,
   "metadata": {},
   "outputs": [
    {
     "name": "stdout",
     "output_type": "stream",
     "text": [
      "Average degree centrality= 0.019751751751751756\n"
     ]
    }
   ],
   "source": [
    "#degree centrality distribution and parsing into Gephi\n",
    "dc=nx.degree_centrality(D3)\n",
    "for k in D3.nodes():\n",
    "    D3.node[k]['degcen'] = dc[k]\n",
    "dc_values = sorted(set(dc.values()))\n",
    "print(\"Average degree centrality=\",np.mean(list(dc.values())))"
   ]
  },
  {
   "cell_type": "code",
   "execution_count": 44,
   "metadata": {},
   "outputs": [
    {
     "name": "stdout",
     "output_type": "stream",
     "text": [
      "Average betweenness centrality= 0.0022776925221815\n",
      "CPU times: user 6.12 s, sys: 8.99 ms, total: 6.13 s\n",
      "Wall time: 6.35 s\n"
     ]
    }
   ],
   "source": [
    "%%time\n",
    "#Betweenness centrality distribution and parsing into Gephi\n",
    "bcen=nx.betweenness_centrality(D3)\n",
    "\n",
    "for k in D3.nodes():\n",
    "    D3.node[k]['betcen'] = bcen[k]\n",
    "bcen_values = sorted(set(bcen.values()))\n",
    "print(\"Average betweenness centrality=\", np.mean(list(bcen.values())))"
   ]
  },
  {
   "cell_type": "code",
   "execution_count": 45,
   "metadata": {},
   "outputs": [
    {
     "name": "stdout",
     "output_type": "stream",
     "text": [
      "Average Eigen vector centrality= 0.02969391454179673\n",
      "CPU times: user 58.3 ms, sys: 2 ms, total: 60.3 ms\n",
      "Wall time: 65.5 ms\n"
     ]
    }
   ],
   "source": [
    "%%time\n",
    "#Eigen Vector centrality distribution\n",
    "ecen=nx.eigenvector_centrality(D3)\n",
    "for k in D3.nodes():\n",
    "    D3.node[k]['eigcen'] = ecen[k]\n",
    "\n",
    "ecen_values = sorted(set(ecen.values()))\n",
    "print(\"Average Eigen vector centrality=\", np.mean(list(ecen.values())))"
   ]
  },
  {
   "cell_type": "code",
   "execution_count": 46,
   "metadata": {},
   "outputs": [],
   "source": [
    "#create .gml object with attributes for 'Gephi' visualization\n",
    "nx.write_gml(D3, \"./instagram.gml\")"
   ]
  },
  {
   "cell_type": "code",
   "execution_count": null,
   "metadata": {},
   "outputs": [],
   "source": []
  }
 ],
 "metadata": {
  "kernelspec": {
   "display_name": "Python 3",
   "language": "python",
   "name": "python3"
  },
  "language_info": {
   "codemirror_mode": {
    "name": "ipython",
    "version": 3
   },
   "file_extension": ".py",
   "mimetype": "text/x-python",
   "name": "python",
   "nbconvert_exporter": "python",
   "pygments_lexer": "ipython3",
   "version": "3.7.4"
  }
 },
 "nbformat": 4,
 "nbformat_minor": 2
}
